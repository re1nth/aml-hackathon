{
 "cells": [
  {
   "cell_type": "code",
   "execution_count": 2,
   "metadata": {},
   "outputs": [],
   "source": [
    "# Import here\n",
    "import numpy as np\n",
    "import pandas as pd\n",
    "from scipy import stats"
   ]
  },
  {
   "cell_type": "code",
   "execution_count": 3,
   "metadata": {},
   "outputs": [],
   "source": [
    "def preprocess(filename):\n",
    "        \n",
    "    print(\"Preprocessing %s\" % (filename))\n",
    "    df = pd.read_csv(filename)\n",
    "    \n",
    "    missing_keys = [\"taxi_type\", \"months_of_activity\", \"customer_score\", \n",
    "                    \"customer_score_confidence\", \"anon_var_1\"]\n",
    "\n",
    "    mean_keys = [\"months_of_activity\", \"customer_score\", \"anon_var_1\"]\n",
    "\n",
    "    str_keys = {\"taxi_type\": 5, \"customer_score_confidence\": 3, \"drop_location_type\": 14, \"sex\": 2}\n",
    "    \n",
    "    ids = []\n",
    "    cols = []\n",
    "    for key, values in df.items():\n",
    "        \n",
    "        rows = len(values)\n",
    "        nan_vals = values.isna()\n",
    "        print(key, values.dtypes, nan_vals.sum())\n",
    "\n",
    "        column = []\n",
    "        for i, val in enumerate(values):\n",
    "            if nan_vals[i]:\n",
    "                column.append(None)\n",
    "            else:\n",
    "                column.append(val)\n",
    "\n",
    "        if key == \"id\":\n",
    "            ids = column\n",
    "            continue\n",
    "        \n",
    "        column_modified = column\n",
    "        if nan_vals.sum() > 0:\n",
    "            assert key in missing_keys, \\\n",
    "                    \"Incorrect missing keys list\"\n",
    "            \n",
    "            if key in mean_keys:\n",
    "                column_mean = np.mean([v for v in column if v is not None])\n",
    "                column_modified = [v if v is not None else column_mean for v in column]\n",
    "            \n",
    "            else:\n",
    "                column_mode = stats.mode(np.array([v for v in column if v is not None])).mode[0]\n",
    "                column_modified = [v if v is not None else column_mode for v in column]\n",
    "        \n",
    "        # This is not a string type\n",
    "        if key not in str_keys.keys():\n",
    "            cols.append(column_modified)\n",
    "            continue\n",
    "        \n",
    "        # binary columns. Each column filled with 0 initially\n",
    "        binary_cols = [[0] * rows for _ in range(str_keys[key])]\n",
    "        \n",
    "        # Handle multi-character strings first\n",
    "        # Male -> (1, 0)\n",
    "        # Female -> (0, 1)\n",
    "        if key == \"sex\":\n",
    "            for i, v in enumerate(column_modified):\n",
    "                if v == \"Male\":\n",
    "                    binary_cols[0][i] = 1\n",
    "                else:\n",
    "                    binary_cols[1][i] = 1\n",
    "                    \n",
    "        # Handle single character strings now\n",
    "        else:\n",
    "            for i, v in enumerate(column_modified):\n",
    "                binary_cols[ord(v) - ord('A')][i] = 1\n",
    "        \n",
    "        # Add binary columns to all columns\n",
    "        for binary_col in binary_cols:\n",
    "            cols.append(binary_col)\n",
    "    \n",
    "    print()\n",
    "    return (np.array(ids), np.column_stack(tuple(cols)))"
   ]
  },
  {
   "cell_type": "code",
   "execution_count": 4,
   "metadata": {},
   "outputs": [
    {
     "name": "stdout",
     "output_type": "stream",
     "text": [
      "Preprocessing train.csv\n",
      "id object 0\n",
      "distance float64 0\n",
      "taxi_type object 12152\n"
     ]
    },
    {
     "name": "stderr",
     "output_type": "stream",
     "text": [
      "/Users/re1nth/anaconda3/lib/python3.7/site-packages/scipy/stats/stats.py:245: RuntimeWarning: The input array could not be properly checked for nan values. nan values will be ignored.\n",
      "  \"values. nan values will be ignored.\", RuntimeWarning)\n"
     ]
    },
    {
     "name": "stdout",
     "output_type": "stream",
     "text": [
      "months_of_activity float64 3533\n",
      "customer_score float64 12041\n",
      "customer_score_confidence object 12041\n",
      "drop_location_type object 0\n",
      "ratings_given_by_cust float64 0\n",
      "num_of_cancelled_trips int64 0\n",
      "anon_var_1 float64 42419\n",
      "anon_var_2 int64 0\n",
      "anon_var_3 int64 0\n",
      "sex object 0\n",
      "pricing_category int64 0\n",
      "\n",
      "Preprocessing test.csv\n",
      "id object 0\n",
      "distance float64 0\n",
      "taxi_type object 8058\n",
      "months_of_activity float64 2387\n",
      "customer_score float64 8152\n",
      "customer_score_confidence object 8152\n",
      "drop_location_type object 0\n",
      "ratings_given_by_cust float64 0\n",
      "num_of_cancelled_trips int64 0\n",
      "anon_var_1 float64 28611\n",
      "anon_var_2 int64 0\n",
      "anon_var_3 int64 0\n",
      "sex object 0\n",
      "\n"
     ]
    }
   ],
   "source": [
    "train_ids, training_dataset = preprocess(\"train.csv\")\n",
    "test_ids, test_data = preprocess(\"test.csv\")\n",
    "\n",
    "training_data = training_dataset[:, :-1]\n",
    "training_labels = training_dataset[:, -1]"
   ]
  },
  {
   "cell_type": "code",
   "execution_count": 36,
   "metadata": {},
   "outputs": [],
   "source": [
    "# Add classifiers here\n",
    "import csv\n",
    "from sklearn import tree\n",
    "clf=tree.DecisionTreeClassifier(criterion='entropy')\n",
    "clf=clf.fit(training_data,training_labels)\n",
    "prediction = clf.predict(test_data)\n",
    "final = []\n",
    "final.append(['id','pricing_category'])\n",
    "for cnt,x in enumerate(prediction) :\n",
    "    temp = []\n",
    "    temp.append(test_ids[cnt])\n",
    "    temp.append(float(x))\n",
    "    final.append(temp)\n",
    "with open('dec_tree.csv', 'w') as csvFile:\n",
    "    writer = csv.writer(csvFile)\n",
    "    writer.writerows(final)"
   ]
  },
  {
   "cell_type": "code",
   "execution_count": 37,
   "metadata": {},
   "outputs": [
    {
     "name": "stdout",
     "output_type": "stream",
     "text": [
      "Accuracy for Decision Tree:  0.5677574530033547\n"
     ]
    }
   ],
   "source": [
    "import numpy as np\n",
    "split_size = int(0.8*training_dataset.shape[0])\n",
    "train = training_dataset[:split_size,:]\n",
    "test = training_dataset[split_size+1:,:]\n",
    "trainX = train[:,:-1]\n",
    "trainY = train[:,-1:]\n",
    "testX = test[:,:-1]\n",
    "testY = test[:,-1:]\n",
    "clf=clf.fit(trainX,trainY)\n",
    "actual = []\n",
    "for y in testY:\n",
    "    actual.append(y[0])\n",
    "prediction = clf.predict(testX)\n",
    "actual = np.array(actual)\n",
    "prediction = np.array(prediction)\n",
    "acc = 0 \n",
    "for cnt in range(actual.shape[0]):\n",
    "    if(actual[cnt]==prediction[cnt]):\n",
    "        acc = acc+1\n",
    "print(\"Accuracy for Decision Tree: \",acc/actual.shape[0])"
   ]
  },
  {
   "cell_type": "code",
   "execution_count": 38,
   "metadata": {},
   "outputs": [],
   "source": [
    "for x in train_ids:\n",
    "    if x in test_ids:\n",
    "        print(\"Found\")"
   ]
  },
  {
   "cell_type": "code",
   "execution_count": null,
   "metadata": {},
   "outputs": [],
   "source": []
  }
 ],
 "metadata": {
  "kernelspec": {
   "display_name": "Python 3",
   "language": "python",
   "name": "python3"
  },
  "language_info": {
   "codemirror_mode": {
    "name": "ipython",
    "version": 3
   },
   "file_extension": ".py",
   "mimetype": "text/x-python",
   "name": "python",
   "nbconvert_exporter": "python",
   "pygments_lexer": "ipython3",
   "version": "3.7.1"
  }
 },
 "nbformat": 4,
 "nbformat_minor": 2
}
